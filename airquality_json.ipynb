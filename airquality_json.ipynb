{
 "cells": [
  {
   "cell_type": "markdown",
   "id": "d9d479a8",
   "metadata": {},
   "source": [
    "# Processing & Loading data from government public dataset api to mongodb database using spark connector"
   ]
  },
  {
   "cell_type": "markdown",
   "id": "e75e5666",
   "metadata": {},
   "source": [
    "## Import necessary packages"
   ]
  },
  {
   "cell_type": "code",
   "execution_count": 44,
   "id": "e1d9d82b",
   "metadata": {},
   "outputs": [],
   "source": [
    "import requests\n",
    "import json\n",
    "from pyspark.sql import SparkSession\n",
    "from pyspark.sql import functions as func"
   ]
  },
  {
   "cell_type": "markdown",
   "id": "4b9ab2df",
   "metadata": {},
   "source": [
    "## Get request to the government public dataset "
   ]
  },
  {
   "cell_type": "code",
   "execution_count": 45,
   "id": "4355a1a3",
   "metadata": {},
   "outputs": [],
   "source": [
    "request= requests.get(\"https://api.data.gov.in/resource/3b01bcb8-0b14-4abf-b6f2-c1bfd384ba69?api-key=579b464db66ec23bdd00000194a8bf20f8ec499241a734856f3a3504&format=json\")"
   ]
  },
  {
   "cell_type": "code",
   "execution_count": 46,
   "id": "e4cad57f",
   "metadata": {},
   "outputs": [],
   "source": [
    "json_str=request.content"
   ]
  },
  {
   "cell_type": "markdown",
   "id": "11b15036",
   "metadata": {},
   "source": [
    "## Load JSON byte string into python dictionary"
   ]
  },
  {
   "cell_type": "code",
   "execution_count": 47,
   "id": "b1ef5279",
   "metadata": {},
   "outputs": [],
   "source": [
    "data_dict=json.loads(json_str)"
   ]
  },
  {
   "cell_type": "code",
   "execution_count": 48,
   "id": "540d62b6",
   "metadata": {
    "scrolled": true
   },
   "outputs": [
    {
     "name": "stdout",
     "output_type": "stream",
     "text": [
      "{'index_name': '3b01bcb8-0b14-4abf-b6f2-c1bfd384ba69', 'title': 'Real time Air Quality Index from various locations', 'desc': 'Real time Air Quality Index from various locations', 'org_type': 'Central', 'org': ['Ministry of Environment, Forest and Climate Change', 'Central Pollution Control Board'], 'sector': ['Environment and Forest', 'Vehicular Air Pollution', 'Residential Air Pollution', 'Industrial Air Pollution'], 'source': 'data.gov.in', 'catalog_uuid': 'a3e7afc6-b799-4ede-b143-8e074b27e062', 'visualizable': '0', 'active': 1, 'created': '1543320551', 'updated': 1658642526, 'created_date': '2018-11-27T17:39:11Z', 'updated_date': '2022-07-24T11:32:06Z', 'external_ws': 0, 'external_ws_url': '', 'target_bucket': {'index': 'aqi_archieve', 'type': 'a3e7afc6-b799-4ede-b143-8e074b27e062', 'field': '3b01bcb8-0b14-4abf-b6f2-c1bfd384ba69'}, 'field': [{'id': 'id', 'name': 'id', 'type': 'double'}, {'id': 'country', 'name': 'country', 'type': 'keyword'}, {'id': 'state', 'name': 'state', 'type': 'keyword'}, {'id': 'city', 'name': 'city', 'type': 'keyword'}, {'id': 'station', 'name': 'station', 'type': 'keyword'}, {'id': 'last_update', 'name': 'last_update', 'type': 'date'}, {'id': 'pollutant_id', 'name': 'pollutant_id', 'type': 'keyword'}, {'id': 'pollutant_min', 'name': 'pollutant_min', 'type': 'double'}, {'id': 'pollutant_max', 'name': 'pollutant_max', 'type': 'double'}, {'id': 'pollutant_avg', 'name': 'pollutant_avg', 'type': 'double'}, {'id': 'pollutant_unit', 'name': 'pollutant_unit', 'type': 'keyword'}], 'message': 'Resource lists', 'version': '2.2.0', 'status': 'ok', 'total': 2035, 'count': 10, 'limit': '10', 'offset': '0', 'records': [{'id': '1', 'country': 'India', 'state': 'Andhra_Pradesh', 'city': 'Amaravati', 'station': 'Secretariat, Amaravati - APPCB', 'last_update': '24-07-2022 10:00:00', 'pollutant_id': 'PM2.5', 'pollutant_min': '4', 'pollutant_max': '24', 'pollutant_avg': '14', 'pollutant_unit': 'NA'}, {'id': '2', 'country': 'India', 'state': 'Andhra_Pradesh', 'city': 'Amaravati', 'station': 'Secretariat, Amaravati - APPCB', 'last_update': '24-07-2022 10:00:00', 'pollutant_id': 'PM10', 'pollutant_min': '4', 'pollutant_max': '22', 'pollutant_avg': '14', 'pollutant_unit': 'NA'}, {'id': '3', 'country': 'India', 'state': 'Andhra_Pradesh', 'city': 'Amaravati', 'station': 'Secretariat, Amaravati - APPCB', 'last_update': '24-07-2022 10:00:00', 'pollutant_id': 'NO2', 'pollutant_min': '7', 'pollutant_max': '21', 'pollutant_avg': '11', 'pollutant_unit': 'NA'}, {'id': '4', 'country': 'India', 'state': 'Andhra_Pradesh', 'city': 'Amaravati', 'station': 'Secretariat, Amaravati - APPCB', 'last_update': '24-07-2022 10:00:00', 'pollutant_id': 'NH3', 'pollutant_min': '1', 'pollutant_max': '1', 'pollutant_avg': '1', 'pollutant_unit': 'NA'}, {'id': '5', 'country': 'India', 'state': 'Andhra_Pradesh', 'city': 'Amaravati', 'station': 'Secretariat, Amaravati - APPCB', 'last_update': '24-07-2022 10:00:00', 'pollutant_id': 'SO2', 'pollutant_min': '15', 'pollutant_max': '18', 'pollutant_avg': '16', 'pollutant_unit': 'NA'}, {'id': '6', 'country': 'India', 'state': 'Andhra_Pradesh', 'city': 'Amaravati', 'station': 'Secretariat, Amaravati - APPCB', 'last_update': '24-07-2022 10:00:00', 'pollutant_id': 'CO', 'pollutant_min': '35', 'pollutant_max': '50', 'pollutant_avg': '40', 'pollutant_unit': 'NA'}, {'id': '7', 'country': 'India', 'state': 'Andhra_Pradesh', 'city': 'Amaravati', 'station': 'Secretariat, Amaravati - APPCB', 'last_update': '24-07-2022 10:00:00', 'pollutant_id': 'OZONE', 'pollutant_min': '6', 'pollutant_max': '45', 'pollutant_avg': '14', 'pollutant_unit': 'NA'}, {'id': '8', 'country': 'India', 'state': 'Andhra_Pradesh', 'city': 'Rajamahendravaram', 'station': 'Anand Kala Kshetram, Rajamahendravaram - APPCB', 'last_update': '24-07-2022 10:00:00', 'pollutant_id': 'PM2.5', 'pollutant_min': '2', 'pollutant_max': '23', 'pollutant_avg': '11', 'pollutant_unit': 'NA'}, {'id': '9', 'country': 'India', 'state': 'Andhra_Pradesh', 'city': 'Rajamahendravaram', 'station': 'Anand Kala Kshetram, Rajamahendravaram - APPCB', 'last_update': '24-07-2022 10:00:00', 'pollutant_id': 'PM10', 'pollutant_min': '10', 'pollutant_max': '58', 'pollutant_avg': '32', 'pollutant_unit': 'NA'}, {'id': '10', 'country': 'India', 'state': 'Andhra_Pradesh', 'city': 'Rajamahendravaram', 'station': 'Anand Kala Kshetram, Rajamahendravaram - APPCB', 'last_update': '24-07-2022 10:00:00', 'pollutant_id': 'NO2', 'pollutant_min': '6', 'pollutant_max': '20', 'pollutant_avg': '11', 'pollutant_unit': 'NA'}]}\n"
     ]
    }
   ],
   "source": [
    "print(data_dict)"
   ]
  },
  {
   "cell_type": "code",
   "execution_count": 49,
   "id": "4328a8de",
   "metadata": {},
   "outputs": [],
   "source": [
    "dataset=data_dict['records']"
   ]
  },
  {
   "cell_type": "markdown",
   "id": "ddd066a5",
   "metadata": {},
   "source": [
    "## Define and configure sparksession\n",
    "### Configuring mongo spark connector"
   ]
  },
  {
   "cell_type": "code",
   "execution_count": 50,
   "id": "0358d239",
   "metadata": {},
   "outputs": [],
   "source": [
    "spark = SparkSession.builder.appName(\"air_quality\").config(\"spark.mongodb.input.uri\", \"mongodb://127.0.0.1:49752/public_db.air_quality\") \\\n",
    "    .config(\"spark.mongodb.output.uri\", \"mongodb://127.0.0.1:49752/public_db.air_quality\")\\\n",
    "    .config(\"spark.jars.packages\", \"org.mongodb.spark:mongo-spark-connector:10.0.2\").getOrCreate()"
   ]
  },
  {
   "cell_type": "code",
   "execution_count": 51,
   "id": "93dbc7a9",
   "metadata": {},
   "outputs": [],
   "source": [
    "df_json = spark.createDataFrame(dataset)"
   ]
  },
  {
   "cell_type": "code",
   "execution_count": 52,
   "id": "47b944d3",
   "metadata": {},
   "outputs": [],
   "source": [
    "df_final=df_json.drop(\"pollutant_unit\")"
   ]
  },
  {
   "cell_type": "markdown",
   "id": "2ba7d138",
   "metadata": {},
   "source": [
    "### Writing the DataFrame to mongoDB\n",
    "#### Database: public_db; Collections: air_quality"
   ]
  },
  {
   "cell_type": "code",
   "execution_count": 53,
   "id": "6e04b701",
   "metadata": {},
   "outputs": [],
   "source": [
    "df_final.write.format(\"mongodb\").option(\"spark.mongodb.output.uri\", \"mongodb://127.0.0.1:49752/public_db.air_quality\").option(\"database\",\"public_db\").option(\"collection\",\"air_quality\").mode(\"append\").save()"
   ]
  }
 ],
 "metadata": {
  "kernelspec": {
   "display_name": "Python 3 (ipykernel)",
   "language": "python",
   "name": "python3"
  },
  "language_info": {
   "codemirror_mode": {
    "name": "ipython",
    "version": 3
   },
   "file_extension": ".py",
   "mimetype": "text/x-python",
   "name": "python",
   "nbconvert_exporter": "python",
   "pygments_lexer": "ipython3",
   "version": "3.9.12"
  }
 },
 "nbformat": 4,
 "nbformat_minor": 5
}
