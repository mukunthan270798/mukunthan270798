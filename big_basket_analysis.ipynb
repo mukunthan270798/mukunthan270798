{
 "cells": [
  {
   "cell_type": "code",
   "execution_count": 111,
   "id": "f4657b45",
   "metadata": {},
   "outputs": [],
   "source": [
    "import findspark\n",
    "findspark.init()\n",
    "\n",
    "from pyspark.sql import SparkSession\n",
    "from pyspark.sql import functions as func\n",
    "from pyspark.sql.types import StructType, StructField, StringType, IntegerType, FloatType"
   ]
  },
  {
   "cell_type": "markdown",
   "id": "8db416f6",
   "metadata": {},
   "source": [
    "# Reading the input CSV file with custom schema"
   ]
  },
  {
   "cell_type": "code",
   "execution_count": 112,
   "id": "cabb78e2",
   "metadata": {},
   "outputs": [],
   "source": [
    "schema = StructType([StructField(\"index\", IntegerType(), True),StructField(\"product\", StringType(), True),StructField(\"category\",  StringType(), True),\n",
    "StructField(\"sub_category\",  StringType(), True),StructField(\"brand\",  StringType(), True),StructField(\"sale_price\",  FloatType(), True),StructField(\"market_price\",  FloatType(), True),\n",
    "StructField(\"type\",  StringType(), True),StructField(\"rating\",  StringType(), True),StructField(\"description\",  StringType(), True)\n",
    "])\n",
    "\n",
    "spark = SparkSession.builder.appName(\"bb_discount\").getOrCreate()\n",
    "df_file= spark.read.schema(schema).option(\"header\",True).option(\"multiLine\",True).csv(r\"C:\\Users\\mukun\\Documents\\datasets\\big_basket_data.csv\",quote='\"')\n",
    "\n",
    "\n",
    "\n"
   ]
  },
  {
   "cell_type": "markdown",
   "id": "c0e88340",
   "metadata": {},
   "source": [
    "# Filter null records & Dropping unwanted columns"
   ]
  },
  {
   "cell_type": "code",
   "execution_count": 113,
   "id": "c5d28ce0",
   "metadata": {},
   "outputs": [],
   "source": [
    "df_dropped=df_file.drop(\"description\").drop(\"type\")\n",
    "df_nonnull=df_dropped.filter(df_dropped.index.isNotNull())"
   ]
  },
  {
   "cell_type": "markdown",
   "id": "990d540b",
   "metadata": {},
   "source": [
    "# Category with highest discount average"
   ]
  },
  {
   "cell_type": "code",
   "execution_count": 114,
   "id": "afd93ccb",
   "metadata": {},
   "outputs": [
    {
     "name": "stdout",
     "output_type": "stream",
     "text": [
      "+--------------------+------------+\n",
      "|            category|avg_discount|\n",
      "+--------------------+------------+\n",
      "|Kitchen, Garden &...|       21.84|\n",
      "| Fruits & Vegetables|        21.2|\n",
      "|    Beauty & Hygiene|        12.3|\n",
      "|Foodgrains, Oil &...|       11.71|\n",
      "|Cleaning & Household|       10.58|\n",
      "|           Beverages|         9.5|\n",
      "|   Eggs, Meat & Fish|        7.99|\n",
      "|Gourmet & World Food|        7.82|\n",
      "|Bakery, Cakes & D...|        7.52|\n",
      "|Snacks & Branded ...|        6.57|\n",
      "+--------------------+------------+\n",
      "only showing top 10 rows\n",
      "\n"
     ]
    }
   ],
   "source": [
    "df_percent=df_nonnull.withColumn(\"discount\",func.round(((func.col(\"market_price\")-func.col(\"sale_price\"))/func.col(\"market_price\"))*100,2).cast(\"integer\"))\n",
    "df_percent.groupBy(\"category\").agg(func.round(func.avg(\"discount\"),2).alias(\"avg_discount\"))\\\n",
    ".orderBy(func.desc(\"avg_discount\")).show(10)"
   ]
  },
  {
   "cell_type": "markdown",
   "id": "3d004b21",
   "metadata": {},
   "source": [
    "# Most reputed brand"
   ]
  },
  {
   "cell_type": "code",
   "execution_count": 115,
   "id": "77b87570",
   "metadata": {},
   "outputs": [
    {
     "name": "stdout",
     "output_type": "stream",
     "text": [
      "+----------------+----------+---------+\n",
      "|           brand|avg_rating|frequency|\n",
      "+----------------+----------+---------+\n",
      "|          Fresho|      4.03|      638|\n",
      "|        bb Royal|      4.05|      539|\n",
      "|         BB Home|      4.11|      428|\n",
      "|              DP|       4.2|      250|\n",
      "|Fresho Signature|      4.21|      171|\n",
      "|        bb Combo|      4.03|      168|\n",
      "|            Amul|      4.04|      153|\n",
      "|         INATUR |      3.81|      146|\n",
      "|        Himalaya|      4.14|      141|\n",
      "|           Dabur|      4.11|      138|\n",
      "+----------------+----------+---------+\n",
      "only showing top 10 rows\n",
      "\n"
     ]
    }
   ],
   "source": [
    "df_nonnull.groupBy(\"brand\").agg(func.round(func.avg(\"rating\"),2).alias(\"avg_rating\"),func.count(\"brand\").alias(\"frequency\"))\\\n",
    ".orderBy(func.desc(\"frequency\"),func.desc(\"avg_rating\")).show(10)"
   ]
  },
  {
   "cell_type": "markdown",
   "id": "86a596e6",
   "metadata": {},
   "source": [
    "# Highest revenue category"
   ]
  },
  {
   "cell_type": "code",
   "execution_count": 116,
   "id": "86f930ef",
   "metadata": {
    "scrolled": true
   },
   "outputs": [
    {
     "name": "stdout",
     "output_type": "stream",
     "text": [
      "+--------------------+------------------+---------+\n",
      "|            category|           revenue|frequency|\n",
      "+--------------------+------------------+---------+\n",
      "|    Beauty & Hygiene| 3293749.239210129|     7867|\n",
      "|Kitchen, Garden &...|1816938.1201782227|     3580|\n",
      "|Gourmet & World Food|1500115.3102817535|     4690|\n",
      "|Cleaning & Household| 605013.0897493362|     2675|\n",
      "|Foodgrains, Oil &...| 516916.2300491333|     2676|\n",
      "|Snacks & Branded ...|364675.08014678955|     2814|\n",
      "|           Baby Care|326317.17083358765|      610|\n",
      "|           Beverages|212186.66980171204|      885|\n",
      "|Bakery, Cakes & D...| 121525.1399898529|      851|\n",
      "|   Eggs, Meat & Fish|101114.12001800537|      350|\n",
      "| Fruits & Vegetables| 28345.35996747017|      557|\n",
      "+--------------------+------------------+---------+\n",
      "\n"
     ]
    }
   ],
   "source": [
    "df_nonnull.groupBy(\"category\").agg(func.sum(\"sale_price\").alias(\"revenue\"),func.count(\"category\").alias(\"frequency\"))\\\n",
    ".orderBy(func.desc(\"revenue\")).show()"
   ]
  },
  {
   "cell_type": "code",
   "execution_count": null,
   "id": "1ffe28e1",
   "metadata": {},
   "outputs": [],
   "source": []
  }
 ],
 "metadata": {
  "kernelspec": {
   "display_name": "Python 3 (ipykernel)",
   "language": "python",
   "name": "python3"
  },
  "language_info": {
   "codemirror_mode": {
    "name": "ipython",
    "version": 3
   },
   "file_extension": ".py",
   "mimetype": "text/x-python",
   "name": "python",
   "nbconvert_exporter": "python",
   "pygments_lexer": "ipython3",
   "version": "3.9.12"
  }
 },
 "nbformat": 4,
 "nbformat_minor": 5
}
